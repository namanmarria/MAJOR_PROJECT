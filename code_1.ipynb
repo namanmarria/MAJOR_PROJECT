{
 "cells": [
  {
   "cell_type": "code",
   "execution_count": 4,
   "metadata": {},
   "outputs": [],
   "source": [
    "import pandas as pd\n",
    "import seaborn as sns\n",
    "import matplotlib.pyplot as plt\n",
    "import csv\n",
    "from sklearn.preprocessing import LabelEncoder, StandardScaler\n",
    "from sklearn.model_selection import train_test_split, GridSearchCV\n",
    "from sklearn.metrics import accuracy_score, classification_report, confusion_matrix\n"
   ]
  },
  {
   "cell_type": "code",
   "execution_count": 3,
   "metadata": {},
   "outputs": [],
   "source": [
    "import warnings\n",
    "warnings.filterwarnings('ignore')\n",
    "%matplotlib inline"
   ]
  },
  {
   "cell_type": "markdown",
   "metadata": {},
   "source": [
    "## Data\n",
    "#### importing raw data"
   ]
  },
  {
   "cell_type": "code",
   "execution_count": 5,
   "metadata": {},
   "outputs": [],
   "source": [
    "data=pd.read_csv('data.csv')"
   ]
  },
  {
   "cell_type": "code",
   "execution_count": 8,
   "metadata": {},
   "outputs": [
    {
     "data": {
      "text/plain": [
       "(242, 12)"
      ]
     },
     "execution_count": 8,
     "metadata": {},
     "output_type": "execute_result"
    }
   ],
   "source": [
    "data.shape"
   ]
  },
  {
   "cell_type": "code",
   "execution_count": 10,
   "metadata": {},
   "outputs": [
    {
     "data": {
      "text/plain": [
       "Index(['ID', 'NAME', 'FATHER NAME', 'DEPARTMENT', 'WORKHOUR', 'OVERTIME',\n",
       "       'EXP', 'LEAVES', 'LAST_TRAINING', 'ERROR', 'OUTPUT',\n",
       "       'PERFORMANCE_RATING'],\n",
       "      dtype='object')"
      ]
     },
     "execution_count": 10,
     "metadata": {},
     "output_type": "execute_result"
    }
   ],
   "source": [
    "data.columns"
   ]
  },
  {
   "cell_type": "code",
   "execution_count": 11,
   "metadata": {},
   "outputs": [
    {
     "data": {
      "text/html": [
       "<div>\n",
       "<style scoped>\n",
       "    .dataframe tbody tr th:only-of-type {\n",
       "        vertical-align: middle;\n",
       "    }\n",
       "\n",
       "    .dataframe tbody tr th {\n",
       "        vertical-align: top;\n",
       "    }\n",
       "\n",
       "    .dataframe thead th {\n",
       "        text-align: right;\n",
       "    }\n",
       "</style>\n",
       "<table border=\"1\" class=\"dataframe\">\n",
       "  <thead>\n",
       "    <tr style=\"text-align: right;\">\n",
       "      <th></th>\n",
       "      <th>ID</th>\n",
       "      <th>NAME</th>\n",
       "      <th>FATHER NAME</th>\n",
       "      <th>DEPARTMENT</th>\n",
       "      <th>WORKHOUR</th>\n",
       "      <th>OVERTIME</th>\n",
       "      <th>EXP</th>\n",
       "      <th>LEAVES</th>\n",
       "      <th>LAST_TRAINING</th>\n",
       "      <th>ERROR</th>\n",
       "      <th>OUTPUT</th>\n",
       "      <th>PERFORMANCE_RATING</th>\n",
       "    </tr>\n",
       "  </thead>\n",
       "  <tbody>\n",
       "    <tr>\n",
       "      <th>0</th>\n",
       "      <td>1</td>\n",
       "      <td>GIAN DASS</td>\n",
       "      <td>GANESH</td>\n",
       "      <td>CUTTING /BENDING/PRESS</td>\n",
       "      <td>6</td>\n",
       "      <td>4</td>\n",
       "      <td>4</td>\n",
       "      <td>5</td>\n",
       "      <td>10</td>\n",
       "      <td>1</td>\n",
       "      <td>78</td>\n",
       "      <td>8</td>\n",
       "    </tr>\n",
       "    <tr>\n",
       "      <th>1</th>\n",
       "      <td>2</td>\n",
       "      <td>GOVIND</td>\n",
       "      <td>DEVISRAN</td>\n",
       "      <td>CUTTING /BENDING/PRESS</td>\n",
       "      <td>5</td>\n",
       "      <td>4</td>\n",
       "      <td>5</td>\n",
       "      <td>2</td>\n",
       "      <td>17</td>\n",
       "      <td>1</td>\n",
       "      <td>64</td>\n",
       "      <td>7</td>\n",
       "    </tr>\n",
       "    <tr>\n",
       "      <th>2</th>\n",
       "      <td>3</td>\n",
       "      <td>PARVIND KUMAR</td>\n",
       "      <td>FEKU PRASAD</td>\n",
       "      <td>CUTTING /BENDING/PRESS</td>\n",
       "      <td>6</td>\n",
       "      <td>2</td>\n",
       "      <td>7</td>\n",
       "      <td>7</td>\n",
       "      <td>10</td>\n",
       "      <td>4</td>\n",
       "      <td>46</td>\n",
       "      <td>4</td>\n",
       "    </tr>\n",
       "    <tr>\n",
       "      <th>3</th>\n",
       "      <td>4</td>\n",
       "      <td>DEVENDRA SINGH</td>\n",
       "      <td>KEDAR NATH SINGH</td>\n",
       "      <td>CUTTING /BENDING/PRESS</td>\n",
       "      <td>4</td>\n",
       "      <td>2</td>\n",
       "      <td>7</td>\n",
       "      <td>7</td>\n",
       "      <td>9</td>\n",
       "      <td>0</td>\n",
       "      <td>48</td>\n",
       "      <td>5</td>\n",
       "    </tr>\n",
       "    <tr>\n",
       "      <th>4</th>\n",
       "      <td>5</td>\n",
       "      <td>SURENDRA SAV</td>\n",
       "      <td>RAMESHWAR SAV</td>\n",
       "      <td>CUTTING /BENDING/PRESS</td>\n",
       "      <td>7</td>\n",
       "      <td>1</td>\n",
       "      <td>8</td>\n",
       "      <td>7</td>\n",
       "      <td>16</td>\n",
       "      <td>0</td>\n",
       "      <td>54</td>\n",
       "      <td>5</td>\n",
       "    </tr>\n",
       "  </tbody>\n",
       "</table>\n",
       "</div>"
      ],
      "text/plain": [
       "   ID            NAME       FATHER NAME              DEPARTMENT  WORKHOUR  \\\n",
       "0   1       GIAN DASS            GANESH  CUTTING /BENDING/PRESS         6   \n",
       "1   2          GOVIND          DEVISRAN  CUTTING /BENDING/PRESS         5   \n",
       "2   3   PARVIND KUMAR       FEKU PRASAD  CUTTING /BENDING/PRESS         6   \n",
       "3   4  DEVENDRA SINGH  KEDAR NATH SINGH  CUTTING /BENDING/PRESS         4   \n",
       "4   5    SURENDRA SAV     RAMESHWAR SAV  CUTTING /BENDING/PRESS         7   \n",
       "\n",
       "   OVERTIME  EXP  LEAVES  LAST_TRAINING  ERROR  OUTPUT  PERFORMANCE_RATING  \n",
       "0         4    4       5             10      1      78                   8  \n",
       "1         4    5       2             17      1      64                   7  \n",
       "2         2    7       7             10      4      46                   4  \n",
       "3         2    7       7              9      0      48                   5  \n",
       "4         1    8       7             16      0      54                   5  "
      ]
     },
     "execution_count": 11,
     "metadata": {},
     "output_type": "execute_result"
    }
   ],
   "source": [
    "data.head()"
   ]
  },
  {
   "cell_type": "code",
   "execution_count": 12,
   "metadata": {},
   "outputs": [
    {
     "name": "stdout",
     "output_type": "stream",
     "text": [
      "<class 'pandas.core.frame.DataFrame'>\n",
      "RangeIndex: 242 entries, 0 to 241\n",
      "Data columns (total 12 columns):\n",
      " #   Column              Non-Null Count  Dtype \n",
      "---  ------              --------------  ----- \n",
      " 0   ID                  242 non-null    int64 \n",
      " 1   NAME                242 non-null    object\n",
      " 2   FATHER NAME         241 non-null    object\n",
      " 3   DEPARTMENT          242 non-null    object\n",
      " 4   WORKHOUR            242 non-null    int64 \n",
      " 5   OVERTIME            242 non-null    int64 \n",
      " 6   EXP                 242 non-null    int64 \n",
      " 7   LEAVES              242 non-null    int64 \n",
      " 8   LAST_TRAINING       242 non-null    int64 \n",
      " 9   ERROR               242 non-null    int64 \n",
      " 10  OUTPUT              242 non-null    int64 \n",
      " 11  PERFORMANCE_RATING  242 non-null    int64 \n",
      "dtypes: int64(9), object(3)\n",
      "memory usage: 22.8+ KB\n"
     ]
    }
   ],
   "source": [
    "data.info()"
   ]
  },
  {
   "cell_type": "markdown",
   "metadata": {},
   "source": [
    "## Analysis of department wise performance"
   ]
  },
  {
   "cell_type": "code",
   "execution_count": 13,
   "metadata": {},
   "outputs": [],
   "source": [
    "dept = data.iloc[:,[3,11]].copy()\n",
    "dept_per = dept.copy()"
   ]
  },
  {
   "cell_type": "code",
   "execution_count": 14,
   "metadata": {},
   "outputs": [
    {
     "name": "stdout",
     "output_type": "stream",
     "text": [
      "                 DEPARTMENT  PERFORMANCE_RATING\n",
      "0    CUTTING /BENDING/PRESS                   8\n",
      "1    CUTTING /BENDING/PRESS                   7\n",
      "2    CUTTING /BENDING/PRESS                   4\n",
      "3    CUTTING /BENDING/PRESS                   5\n",
      "4    CUTTING /BENDING/PRESS                   5\n",
      "..                      ...                 ...\n",
      "237                   ADMIN                   7\n",
      "238                   ADMIN                   9\n",
      "239                   ADMIN                   6\n",
      "240                   ADMIN                   4\n",
      "241                   ADMIN                  10\n",
      "\n",
      "[242 rows x 2 columns]\n"
     ]
    }
   ],
   "source": [
    "print(dept)"
   ]
  },
  {
   "cell_type": "code",
   "execution_count": 15,
   "metadata": {},
   "outputs": [
    {
     "data": {
      "text/plain": [
       "DEPARTMENT\n",
       "ADMIN                     6.932203\n",
       "CUTTING /BENDING/PRESS    6.931034\n",
       "PACKING                   7.677419\n",
       "PAINTING / COATING        7.375000\n",
       "WELDING  ( MIG & SPOT)    7.590361\n",
       "Name: PERFORMANCE_RATING, dtype: float64"
      ]
     },
     "execution_count": 15,
     "metadata": {},
     "output_type": "execute_result"
    }
   ],
   "source": [
    "# Finding out the mean performance of all the departments and plotting its bar graph using seaborn.\n",
    "dept_per.groupby(by='DEPARTMENT')['PERFORMANCE_RATING'].mean()\n"
   ]
  },
  {
   "cell_type": "code",
   "execution_count": 16,
   "metadata": {},
   "outputs": [
    {
     "data": {
      "text/plain": [
       "<AxesSubplot:xlabel='DEPARTMENT', ylabel='PERFORMANCE_RATING'>"
      ]
     },
     "execution_count": 16,
     "metadata": {},
     "output_type": "execute_result"
    },
    {
     "data": {
      "image/png": "[encoded data removed]",
      "text/plain": [
       "<Figure size 720x324 with 1 Axes>"
      ]
     },
     "metadata": {
      "needs_background": "light"
     },
     "output_type": "display_data"
    }
   ],
   "source": [
    "plt.figure(figsize=(10,4.5))\n",
    "sns.barplot(dept_per['DEPARTMENT'],dept_per['PERFORMANCE_RATING'])\n"
   ]
  },
  {
   "cell_type": "code",
   "execution_count": 17,
   "metadata": {},
   "outputs": [
    {
     "data": {
      "text/plain": [
       "DEPARTMENT              PERFORMANCE_RATING\n",
       "ADMIN                   8                     13\n",
       "                        7                     10\n",
       "                        5                      8\n",
       "                        9                      8\n",
       "                        4                      7\n",
       "                        6                      7\n",
       "                        10                     5\n",
       "                        3                      1\n",
       "CUTTING /BENDING/PRESS  7                      6\n",
       "                        5                      5\n",
       "                        6                      5\n",
       "                        8                      5\n",
       "                        9                      4\n",
       "                        4                      2\n",
       "                        10                     2\n",
       "PACKING                 9                      7\n",
       "                        6                      6\n",
       "                        8                      5\n",
       "                        7                      4\n",
       "                        5                      3\n",
       "                        10                     3\n",
       "                        11                     2\n",
       "                        4                      1\n",
       "PAINTING / COATING      6                      8\n",
       "                        8                      8\n",
       "                        9                      7\n",
       "                        10                     5\n",
       "                        4                      4\n",
       "                        7                      4\n",
       "                        5                      3\n",
       "                        11                     1\n",
       "WELDING  ( MIG & SPOT)  9                     19\n",
       "                        6                     15\n",
       "                        8                     12\n",
       "                        5                     11\n",
       "                        10                     9\n",
       "                        7                      8\n",
       "                        4                      4\n",
       "                        11                     4\n",
       "                        12                     1\n",
       "Name: PERFORMANCE_RATING, dtype: int64"
      ]
     },
     "execution_count": 17,
     "metadata": {},
     "output_type": "execute_result"
    }
   ],
   "source": [
    "# Analyze each department separately\n",
    "dept_per.groupby(by='DEPARTMENT')['PERFORMANCE_RATING'].value_counts()\n"
   ]
  },
  {
   "cell_type": "code",
   "execution_count": 19,
   "metadata": {},
   "outputs": [],
   "source": [
    "# Creating a new dataframe to analyze each department separately\n",
    "department = pd.get_dummies(dept_per['DEPARTMENT'])\n",
    "performance = pd.DataFrame(dept_per['PERFORMANCE_RATING'])\n",
    "dept_rating = pd.concat([department,performance],axis=1)\n"
   ]
  },
  {
   "cell_type": "code",
   "execution_count": 20,
   "metadata": {},
   "outputs": [
    {
     "data": {
      "text/plain": [
       "<AxesSubplot:xlabel='PERFORMANCE_RATING', ylabel='ADMIN'>"
      ]
     },
     "execution_count": 20,
     "metadata": {},
     "output_type": "execute_result"
    },
    {
     "data": {
      "image/png": "[encoded data removed]",
      "text/plain": [
       "<Figure size 1080x720 with 5 Axes>"
      ]
     },
     "metadata": {
      "needs_background": "light"
     },
     "output_type": "display_data"
    }
   ],
   "source": [
    "# Plotting a separate bar graph for performance of each department using seaborn\n",
    "plt.figure(figsize=(15,10))\n",
    "plt.subplot(2,3,1)\n",
    "sns.barplot(dept_rating['PERFORMANCE_RATING'],dept_rating['CUTTING /BENDING/PRESS'])\n",
    "plt.subplot(2,3,2)\n",
    "sns.barplot(dept_rating['PERFORMANCE_RATING'],dept_rating['WELDING  ( MIG & SPOT)'])\n",
    "plt.subplot(2,3,3)\n",
    "sns.barplot(dept_rating['PERFORMANCE_RATING'],dept_rating['PAINTING / COATING'])\n",
    "plt.subplot(2,3,4)\n",
    "sns.barplot(dept_rating['PERFORMANCE_RATING'],dept_rating['PACKING'])\n",
    "plt.subplot(2,3,5)\n",
    "sns.barplot(dept_rating['PERFORMANCE_RATING'],dept_rating['ADMIN'])"
   ]
  },
  {
   "cell_type": "markdown",
   "metadata": {},
   "source": [
    "### data processing"
   ]
  },
  {
   "cell_type": "code",
   "execution_count": 22,
   "metadata": {},
   "outputs": [
    {
     "data": {
      "text/html": [
       "<div>\n",
       "<style scoped>\n",
       "    .dataframe tbody tr th:only-of-type {\n",
       "        vertical-align: middle;\n",
       "    }\n",
       "\n",
       "    .dataframe tbody tr th {\n",
       "        vertical-align: top;\n",
       "    }\n",
       "\n",
       "    .dataframe thead th {\n",
       "        text-align: right;\n",
       "    }\n",
       "</style>\n",
       "<table border=\"1\" class=\"dataframe\">\n",
       "  <thead>\n",
       "    <tr style=\"text-align: right;\">\n",
       "      <th></th>\n",
       "      <th>ID</th>\n",
       "      <th>NAME</th>\n",
       "      <th>FATHER NAME</th>\n",
       "      <th>DEPARTMENT</th>\n",
       "      <th>WORKHOUR</th>\n",
       "      <th>OVERTIME</th>\n",
       "      <th>EXP</th>\n",
       "      <th>LEAVES</th>\n",
       "      <th>LAST_TRAINING</th>\n",
       "      <th>ERROR</th>\n",
       "      <th>OUTPUT</th>\n",
       "      <th>PERFORMANCE_RATING</th>\n",
       "    </tr>\n",
       "  </thead>\n",
       "  <tbody>\n",
       "    <tr>\n",
       "      <th>0</th>\n",
       "      <td>1</td>\n",
       "      <td>GIAN DASS</td>\n",
       "      <td>GANESH</td>\n",
       "      <td>1</td>\n",
       "      <td>4</td>\n",
       "      <td>4</td>\n",
       "      <td>4</td>\n",
       "      <td>5</td>\n",
       "      <td>10</td>\n",
       "      <td>1</td>\n",
       "      <td>37</td>\n",
       "      <td>8</td>\n",
       "    </tr>\n",
       "    <tr>\n",
       "      <th>1</th>\n",
       "      <td>2</td>\n",
       "      <td>GOVIND</td>\n",
       "      <td>DEVISRAN</td>\n",
       "      <td>1</td>\n",
       "      <td>3</td>\n",
       "      <td>4</td>\n",
       "      <td>5</td>\n",
       "      <td>2</td>\n",
       "      <td>17</td>\n",
       "      <td>1</td>\n",
       "      <td>24</td>\n",
       "      <td>7</td>\n",
       "    </tr>\n",
       "    <tr>\n",
       "      <th>2</th>\n",
       "      <td>3</td>\n",
       "      <td>PARVIND KUMAR</td>\n",
       "      <td>FEKU PRASAD</td>\n",
       "      <td>1</td>\n",
       "      <td>4</td>\n",
       "      <td>2</td>\n",
       "      <td>7</td>\n",
       "      <td>7</td>\n",
       "      <td>10</td>\n",
       "      <td>4</td>\n",
       "      <td>6</td>\n",
       "      <td>4</td>\n",
       "    </tr>\n",
       "    <tr>\n",
       "      <th>3</th>\n",
       "      <td>4</td>\n",
       "      <td>DEVENDRA SINGH</td>\n",
       "      <td>KEDAR NATH SINGH</td>\n",
       "      <td>1</td>\n",
       "      <td>2</td>\n",
       "      <td>2</td>\n",
       "      <td>7</td>\n",
       "      <td>7</td>\n",
       "      <td>9</td>\n",
       "      <td>0</td>\n",
       "      <td>8</td>\n",
       "      <td>5</td>\n",
       "    </tr>\n",
       "    <tr>\n",
       "      <th>4</th>\n",
       "      <td>5</td>\n",
       "      <td>SURENDRA SAV</td>\n",
       "      <td>RAMESHWAR SAV</td>\n",
       "      <td>1</td>\n",
       "      <td>5</td>\n",
       "      <td>1</td>\n",
       "      <td>8</td>\n",
       "      <td>7</td>\n",
       "      <td>16</td>\n",
       "      <td>0</td>\n",
       "      <td>14</td>\n",
       "      <td>5</td>\n",
       "    </tr>\n",
       "  </tbody>\n",
       "</table>\n",
       "</div>"
      ],
      "text/plain": [
       "   ID            NAME       FATHER NAME  DEPARTMENT  WORKHOUR  OVERTIME  EXP  \\\n",
       "0   1       GIAN DASS            GANESH           1         4         4    4   \n",
       "1   2          GOVIND          DEVISRAN           1         3         4    5   \n",
       "2   3   PARVIND KUMAR       FEKU PRASAD           1         4         2    7   \n",
       "3   4  DEVENDRA SINGH  KEDAR NATH SINGH           1         2         2    7   \n",
       "4   5    SURENDRA SAV     RAMESHWAR SAV           1         5         1    8   \n",
       "\n",
       "   LEAVES  LAST_TRAINING  ERROR  OUTPUT  PERFORMANCE_RATING  \n",
       "0       5             10      1      37                   8  \n",
       "1       2             17      1      24                   7  \n",
       "2       7             10      4       6                   4  \n",
       "3       7              9      0       8                   5  \n",
       "4       7             16      0      14                   5  "
      ]
     },
     "execution_count": 22,
     "metadata": {},
     "output_type": "execute_result"
    }
   ],
   "source": [
    "# Encoding all the ordinal columns and creating a dummy variable for them to see if there are any effects on Performance Rating\n",
    "enc = LabelEncoder()\n",
    "for i in (3,4,5,6,7,10):\n",
    "    data.iloc[:,i] = enc.fit_transform(data.iloc[:,i])\n",
    "data.head()"
   ]
  },
  {
   "cell_type": "markdown",
   "metadata": {},
   "source": [
    "### Feature Selection\n",
    "We need correlation coefficient as there are quite a few columns\n",
    "\n",
    "Standardisation and Label Encoding is also used for feature transformation\n",
    "\n",
    "A separate analysis considering all the predictors was carried out but it resulted in decreasing the accuracy . Similarly , PCA also reduces the accuracy"
   ]
  },
  {
   "cell_type": "code",
   "execution_count": 23,
   "metadata": {},
   "outputs": [
    {
     "data": {
      "text/html": [
       "<div>\n",
       "<style scoped>\n",
       "    .dataframe tbody tr th:only-of-type {\n",
       "        vertical-align: middle;\n",
       "    }\n",
       "\n",
       "    .dataframe tbody tr th {\n",
       "        vertical-align: top;\n",
       "    }\n",
       "\n",
       "    .dataframe thead th {\n",
       "        text-align: right;\n",
       "    }\n",
       "</style>\n",
       "<table border=\"1\" class=\"dataframe\">\n",
       "  <thead>\n",
       "    <tr style=\"text-align: right;\">\n",
       "      <th></th>\n",
       "      <th>ID</th>\n",
       "      <th>DEPARTMENT</th>\n",
       "      <th>WORKHOUR</th>\n",
       "      <th>OVERTIME</th>\n",
       "      <th>EXP</th>\n",
       "      <th>LEAVES</th>\n",
       "      <th>LAST_TRAINING</th>\n",
       "      <th>ERROR</th>\n",
       "      <th>OUTPUT</th>\n",
       "      <th>PERFORMANCE_RATING</th>\n",
       "    </tr>\n",
       "  </thead>\n",
       "  <tbody>\n",
       "    <tr>\n",
       "      <th>ID</th>\n",
       "      <td>1.000000</td>\n",
       "      <td>-0.577188</td>\n",
       "      <td>-0.048497</td>\n",
       "      <td>0.023424</td>\n",
       "      <td>-0.072897</td>\n",
       "      <td>-0.047634</td>\n",
       "      <td>0.071122</td>\n",
       "      <td>0.026583</td>\n",
       "      <td>-0.064155</td>\n",
       "      <td>-0.061300</td>\n",
       "    </tr>\n",
       "    <tr>\n",
       "      <th>DEPARTMENT</th>\n",
       "      <td>-0.577188</td>\n",
       "      <td>1.000000</td>\n",
       "      <td>0.043459</td>\n",
       "      <td>-0.008815</td>\n",
       "      <td>0.024531</td>\n",
       "      <td>-0.037105</td>\n",
       "      <td>-0.113342</td>\n",
       "      <td>0.084165</td>\n",
       "      <td>0.118631</td>\n",
       "      <td>0.139422</td>\n",
       "    </tr>\n",
       "    <tr>\n",
       "      <th>WORKHOUR</th>\n",
       "      <td>-0.048497</td>\n",
       "      <td>0.043459</td>\n",
       "      <td>1.000000</td>\n",
       "      <td>-0.031573</td>\n",
       "      <td>-0.014640</td>\n",
       "      <td>-0.043082</td>\n",
       "      <td>-0.123842</td>\n",
       "      <td>0.100366</td>\n",
       "      <td>-0.107647</td>\n",
       "      <td>0.071949</td>\n",
       "    </tr>\n",
       "    <tr>\n",
       "      <th>OVERTIME</th>\n",
       "      <td>0.023424</td>\n",
       "      <td>-0.008815</td>\n",
       "      <td>-0.031573</td>\n",
       "      <td>1.000000</td>\n",
       "      <td>0.073703</td>\n",
       "      <td>-0.015628</td>\n",
       "      <td>0.155282</td>\n",
       "      <td>-0.035068</td>\n",
       "      <td>-0.083927</td>\n",
       "      <td>0.002023</td>\n",
       "    </tr>\n",
       "    <tr>\n",
       "      <th>EXP</th>\n",
       "      <td>-0.072897</td>\n",
       "      <td>0.024531</td>\n",
       "      <td>-0.014640</td>\n",
       "      <td>0.073703</td>\n",
       "      <td>1.000000</td>\n",
       "      <td>0.053857</td>\n",
       "      <td>0.022048</td>\n",
       "      <td>-0.012677</td>\n",
       "      <td>0.002438</td>\n",
       "      <td>0.149605</td>\n",
       "    </tr>\n",
       "    <tr>\n",
       "      <th>LEAVES</th>\n",
       "      <td>-0.047634</td>\n",
       "      <td>-0.037105</td>\n",
       "      <td>-0.043082</td>\n",
       "      <td>-0.015628</td>\n",
       "      <td>0.053857</td>\n",
       "      <td>1.000000</td>\n",
       "      <td>0.045013</td>\n",
       "      <td>-0.061970</td>\n",
       "      <td>-0.055417</td>\n",
       "      <td>-0.297207</td>\n",
       "    </tr>\n",
       "    <tr>\n",
       "      <th>LAST_TRAINING</th>\n",
       "      <td>0.071122</td>\n",
       "      <td>-0.113342</td>\n",
       "      <td>-0.123842</td>\n",
       "      <td>0.155282</td>\n",
       "      <td>0.022048</td>\n",
       "      <td>0.045013</td>\n",
       "      <td>1.000000</td>\n",
       "      <td>-0.038783</td>\n",
       "      <td>-0.052691</td>\n",
       "      <td>-0.242158</td>\n",
       "    </tr>\n",
       "    <tr>\n",
       "      <th>ERROR</th>\n",
       "      <td>0.026583</td>\n",
       "      <td>0.084165</td>\n",
       "      <td>0.100366</td>\n",
       "      <td>-0.035068</td>\n",
       "      <td>-0.012677</td>\n",
       "      <td>-0.061970</td>\n",
       "      <td>-0.038783</td>\n",
       "      <td>1.000000</td>\n",
       "      <td>0.067754</td>\n",
       "      <td>0.019792</td>\n",
       "    </tr>\n",
       "    <tr>\n",
       "      <th>OUTPUT</th>\n",
       "      <td>-0.064155</td>\n",
       "      <td>0.118631</td>\n",
       "      <td>-0.107647</td>\n",
       "      <td>-0.083927</td>\n",
       "      <td>0.002438</td>\n",
       "      <td>-0.055417</td>\n",
       "      <td>-0.052691</td>\n",
       "      <td>0.067754</td>\n",
       "      <td>1.000000</td>\n",
       "      <td>0.906970</td>\n",
       "    </tr>\n",
       "    <tr>\n",
       "      <th>PERFORMANCE_RATING</th>\n",
       "      <td>-0.061300</td>\n",
       "      <td>0.139422</td>\n",
       "      <td>0.071949</td>\n",
       "      <td>0.002023</td>\n",
       "      <td>0.149605</td>\n",
       "      <td>-0.297207</td>\n",
       "      <td>-0.242158</td>\n",
       "      <td>0.019792</td>\n",
       "      <td>0.906970</td>\n",
       "      <td>1.000000</td>\n",
       "    </tr>\n",
       "  </tbody>\n",
       "</table>\n",
       "</div>"
      ],
      "text/plain": [
       "                          ID  DEPARTMENT  WORKHOUR  OVERTIME       EXP  \\\n",
       "ID                  1.000000   -0.577188 -0.048497  0.023424 -0.072897   \n",
       "DEPARTMENT         -0.577188    1.000000  0.043459 -0.008815  0.024531   \n",
       "WORKHOUR           -0.048497    0.043459  1.000000 -0.031573 -0.014640   \n",
       "OVERTIME            0.023424   -0.008815 -0.031573  1.000000  0.073703   \n",
       "EXP                -0.072897    0.024531 -0.014640  0.073703  1.000000   \n",
       "LEAVES             -0.047634   -0.037105 -0.043082 -0.015628  0.053857   \n",
       "LAST_TRAINING       0.071122   -0.113342 -0.123842  0.155282  0.022048   \n",
       "ERROR               0.026583    0.084165  0.100366 -0.035068 -0.012677   \n",
       "OUTPUT             -0.064155    0.118631 -0.107647 -0.083927  0.002438   \n",
       "PERFORMANCE_RATING -0.061300    0.139422  0.071949  0.002023  0.149605   \n",
       "\n",
       "                      LEAVES  LAST_TRAINING     ERROR    OUTPUT  \\\n",
       "ID                 -0.047634       0.071122  0.026583 -0.064155   \n",
       "DEPARTMENT         -0.037105      -0.113342  0.084165  0.118631   \n",
       "WORKHOUR           -0.043082      -0.123842  0.100366 -0.107647   \n",
       "OVERTIME           -0.015628       0.155282 -0.035068 -0.083927   \n",
       "EXP                 0.053857       0.022048 -0.012677  0.002438   \n",
       "LEAVES              1.000000       0.045013 -0.061970 -0.055417   \n",
       "LAST_TRAINING       0.045013       1.000000 -0.038783 -0.052691   \n",
       "ERROR              -0.061970      -0.038783  1.000000  0.067754   \n",
       "OUTPUT             -0.055417      -0.052691  0.067754  1.000000   \n",
       "PERFORMANCE_RATING -0.297207      -0.242158  0.019792  0.906970   \n",
       "\n",
       "                    PERFORMANCE_RATING  \n",
       "ID                           -0.061300  \n",
       "DEPARTMENT                    0.139422  \n",
       "WORKHOUR                      0.071949  \n",
       "OVERTIME                      0.002023  \n",
       "EXP                           0.149605  \n",
       "LEAVES                       -0.297207  \n",
       "LAST_TRAINING                -0.242158  \n",
       "ERROR                         0.019792  \n",
       "OUTPUT                        0.906970  \n",
       "PERFORMANCE_RATING            1.000000  "
      ]
     },
     "execution_count": 23,
     "metadata": {},
     "output_type": "execute_result"
    }
   ],
   "source": [
    "# Finding out the correlation coeffecient to find out which predictors are significant.\n",
    "data.corr()"
   ]
  },
  {
   "cell_type": "code",
   "execution_count": 24,
   "metadata": {},
   "outputs": [],
   "source": [
    "# Dropping the first columns as it is of no use for analysis.\n",
    "data.drop(['ID'],inplace=True,axis=1)"
   ]
  },
  {
   "cell_type": "code",
   "execution_count": 116,
   "metadata": {
    "scrolled": true
   },
   "outputs": [
    {
     "data": {
      "text/html": [
       "<div>\n",
       "<style scoped>\n",
       "    .dataframe tbody tr th:only-of-type {\n",
       "        vertical-align: middle;\n",
       "    }\n",
       "\n",
       "    .dataframe tbody tr th {\n",
       "        vertical-align: top;\n",
       "    }\n",
       "\n",
       "    .dataframe thead th {\n",
       "        text-align: right;\n",
       "    }\n",
       "</style>\n",
       "<table border=\"1\" class=\"dataframe\">\n",
       "  <thead>\n",
       "    <tr style=\"text-align: right;\">\n",
       "      <th></th>\n",
       "      <th>NAME</th>\n",
       "      <th>FATHER NAME</th>\n",
       "      <th>DEPARTMENT</th>\n",
       "      <th>WORKHOUR</th>\n",
       "      <th>OVERTIME</th>\n",
       "      <th>EXP</th>\n",
       "      <th>LEAVES</th>\n",
       "      <th>LAST_TRAINING</th>\n",
       "      <th>ERROR</th>\n",
       "      <th>OUTPUT</th>\n",
       "      <th>PERFORMANCE_RATING</th>\n",
       "    </tr>\n",
       "  </thead>\n",
       "  <tbody>\n",
       "    <tr>\n",
       "      <th>0</th>\n",
       "      <td>GIAN DASS</td>\n",
       "      <td>GANESH</td>\n",
       "      <td>1</td>\n",
       "      <td>4</td>\n",
       "      <td>4</td>\n",
       "      <td>4</td>\n",
       "      <td>5</td>\n",
       "      <td>10</td>\n",
       "      <td>1</td>\n",
       "      <td>37</td>\n",
       "      <td>8</td>\n",
       "    </tr>\n",
       "    <tr>\n",
       "      <th>1</th>\n",
       "      <td>GOVIND</td>\n",
       "      <td>DEVISRAN</td>\n",
       "      <td>1</td>\n",
       "      <td>3</td>\n",
       "      <td>4</td>\n",
       "      <td>5</td>\n",
       "      <td>2</td>\n",
       "      <td>17</td>\n",
       "      <td>1</td>\n",
       "      <td>24</td>\n",
       "      <td>7</td>\n",
       "    </tr>\n",
       "    <tr>\n",
       "      <th>2</th>\n",
       "      <td>PARVIND KUMAR</td>\n",
       "      <td>FEKU PRASAD</td>\n",
       "      <td>1</td>\n",
       "      <td>4</td>\n",
       "      <td>2</td>\n",
       "      <td>7</td>\n",
       "      <td>7</td>\n",
       "      <td>10</td>\n",
       "      <td>4</td>\n",
       "      <td>6</td>\n",
       "      <td>4</td>\n",
       "    </tr>\n",
       "    <tr>\n",
       "      <th>3</th>\n",
       "      <td>DEVENDRA SINGH</td>\n",
       "      <td>KEDAR NATH SINGH</td>\n",
       "      <td>1</td>\n",
       "      <td>2</td>\n",
       "      <td>2</td>\n",
       "      <td>7</td>\n",
       "      <td>7</td>\n",
       "      <td>9</td>\n",
       "      <td>0</td>\n",
       "      <td>8</td>\n",
       "      <td>5</td>\n",
       "    </tr>\n",
       "    <tr>\n",
       "      <th>4</th>\n",
       "      <td>SURENDRA SAV</td>\n",
       "      <td>RAMESHWAR SAV</td>\n",
       "      <td>1</td>\n",
       "      <td>5</td>\n",
       "      <td>1</td>\n",
       "      <td>8</td>\n",
       "      <td>7</td>\n",
       "      <td>16</td>\n",
       "      <td>0</td>\n",
       "      <td>14</td>\n",
       "      <td>5</td>\n",
       "    </tr>\n",
       "  </tbody>\n",
       "</table>\n",
       "</div>"
      ],
      "text/plain": [
       "             NAME       FATHER NAME  DEPARTMENT  WORKHOUR  OVERTIME  EXP  \\\n",
       "0       GIAN DASS            GANESH           1         4         4    4   \n",
       "1          GOVIND          DEVISRAN           1         3         4    5   \n",
       "2   PARVIND KUMAR       FEKU PRASAD           1         4         2    7   \n",
       "3  DEVENDRA SINGH  KEDAR NATH SINGH           1         2         2    7   \n",
       "4    SURENDRA SAV     RAMESHWAR SAV           1         5         1    8   \n",
       "\n",
       "   LEAVES  LAST_TRAINING  ERROR  OUTPUT  PERFORMANCE_RATING  \n",
       "0       5             10      1      37                   8  \n",
       "1       2             17      1      24                   7  \n",
       "2       7             10      4       6                   4  \n",
       "3       7              9      0       8                   5  \n",
       "4       7             16      0      14                   5  "
      ]
     },
     "execution_count": 116,
     "metadata": {},
     "output_type": "execute_result"
    }
   ],
   "source": [
    "data.head()"
   ]
  },
  {
   "cell_type": "code",
   "execution_count": 280,
   "metadata": {},
   "outputs": [
    {
     "data": {
      "text/html": [
       "<div>\n",
       "<style scoped>\n",
       "    .dataframe tbody tr th:only-of-type {\n",
       "        vertical-align: middle;\n",
       "    }\n",
       "\n",
       "    .dataframe tbody tr th {\n",
       "        vertical-align: top;\n",
       "    }\n",
       "\n",
       "    .dataframe thead th {\n",
       "        text-align: right;\n",
       "    }\n",
       "</style>\n",
       "<table border=\"1\" class=\"dataframe\">\n",
       "  <thead>\n",
       "    <tr style=\"text-align: right;\">\n",
       "      <th></th>\n",
       "      <th>WORKHOUR</th>\n",
       "      <th>OVERTIME</th>\n",
       "      <th>ERROR</th>\n",
       "      <th>OUTPUT</th>\n",
       "      <th>PERFORMANCE_RATING</th>\n",
       "    </tr>\n",
       "  </thead>\n",
       "  <tbody>\n",
       "    <tr>\n",
       "      <th>0</th>\n",
       "      <td>4</td>\n",
       "      <td>4</td>\n",
       "      <td>1</td>\n",
       "      <td>37</td>\n",
       "      <td>8</td>\n",
       "    </tr>\n",
       "    <tr>\n",
       "      <th>1</th>\n",
       "      <td>3</td>\n",
       "      <td>4</td>\n",
       "      <td>1</td>\n",
       "      <td>24</td>\n",
       "      <td>7</td>\n",
       "    </tr>\n",
       "    <tr>\n",
       "      <th>2</th>\n",
       "      <td>4</td>\n",
       "      <td>2</td>\n",
       "      <td>4</td>\n",
       "      <td>6</td>\n",
       "      <td>4</td>\n",
       "    </tr>\n",
       "    <tr>\n",
       "      <th>3</th>\n",
       "      <td>2</td>\n",
       "      <td>2</td>\n",
       "      <td>0</td>\n",
       "      <td>8</td>\n",
       "      <td>5</td>\n",
       "    </tr>\n",
       "    <tr>\n",
       "      <th>4</th>\n",
       "      <td>5</td>\n",
       "      <td>1</td>\n",
       "      <td>0</td>\n",
       "      <td>14</td>\n",
       "      <td>5</td>\n",
       "    </tr>\n",
       "    <tr>\n",
       "      <th>5</th>\n",
       "      <td>3</td>\n",
       "      <td>1</td>\n",
       "      <td>0</td>\n",
       "      <td>48</td>\n",
       "      <td>8</td>\n",
       "    </tr>\n",
       "    <tr>\n",
       "      <th>6</th>\n",
       "      <td>4</td>\n",
       "      <td>1</td>\n",
       "      <td>4</td>\n",
       "      <td>27</td>\n",
       "      <td>7</td>\n",
       "    </tr>\n",
       "    <tr>\n",
       "      <th>7</th>\n",
       "      <td>0</td>\n",
       "      <td>5</td>\n",
       "      <td>1</td>\n",
       "      <td>24</td>\n",
       "      <td>5</td>\n",
       "    </tr>\n",
       "    <tr>\n",
       "      <th>8</th>\n",
       "      <td>5</td>\n",
       "      <td>5</td>\n",
       "      <td>1</td>\n",
       "      <td>24</td>\n",
       "      <td>7</td>\n",
       "    </tr>\n",
       "    <tr>\n",
       "      <th>9</th>\n",
       "      <td>5</td>\n",
       "      <td>2</td>\n",
       "      <td>3</td>\n",
       "      <td>23</td>\n",
       "      <td>6</td>\n",
       "    </tr>\n",
       "  </tbody>\n",
       "</table>\n",
       "</div>"
      ],
      "text/plain": [
       "   WORKHOUR  OVERTIME  ERROR  OUTPUT  PERFORMANCE_RATING\n",
       "0         4         4      1      37                   8\n",
       "1         3         4      1      24                   7\n",
       "2         4         2      4       6                   4\n",
       "3         2         2      0       8                   5\n",
       "4         5         1      0      14                   5\n",
       "5         3         1      0      48                   8\n",
       "6         4         1      4      27                   7\n",
       "7         0         5      1      24                   5\n",
       "8         5         5      1      24                   7\n",
       "9         5         2      3      23                   6"
      ]
     },
     "execution_count": 280,
     "metadata": {},
     "output_type": "execute_result"
    }
   ],
   "source": [
    "# Here we have selected only the important columns\n",
    "y = data.PERFORMANCE_RATING\n",
    "#X = data.iloc[:,0:-1]  All predictors were selected it resulted in dropping of accuracy.\n",
    "X = data.iloc[:,[3,4,8,9,10]] # Taking only variables with correlation coeffecient greater than 0.1\n",
    "X.head(10)"
   ]
  },
  {
   "cell_type": "code",
   "execution_count": 281,
   "metadata": {},
   "outputs": [],
   "source": [
    "# Splitting into train and test for calculating the accuracy\n",
    "X_train, X_test, y_train, y_test = train_test_split(X,y,test_size=0.3,random_state=10)\n"
   ]
  },
  {
   "cell_type": "code",
   "execution_count": 282,
   "metadata": {},
   "outputs": [],
   "source": [
    "# Standardization technique is used\n",
    "sc = StandardScaler()\n",
    "X_train = sc.fit_transform(X_train)\n",
    "X_test = sc.transform(X_test)"
   ]
  },
  {
   "cell_type": "code",
   "execution_count": 283,
   "metadata": {},
   "outputs": [
    {
     "data": {
      "text/plain": [
       "(169, 5)"
      ]
     },
     "execution_count": 283,
     "metadata": {},
     "output_type": "execute_result"
    }
   ],
   "source": [
    "X_train.shape"
   ]
  },
  {
   "cell_type": "code",
   "execution_count": 284,
   "metadata": {},
   "outputs": [
    {
     "data": {
      "text/plain": [
       "(73, 5)"
      ]
     },
     "execution_count": 284,
     "metadata": {},
     "output_type": "execute_result"
    }
   ],
   "source": [
    "X_test.shape"
   ]
  },
  {
   "cell_type": "markdown",
   "metadata": {},
   "source": [
    "### Logistic Regression"
   ]
  },
  {
   "cell_type": "code",
   "execution_count": 285,
   "metadata": {},
   "outputs": [
    {
     "data": {
      "text/plain": [
       "LogisticRegression()"
      ]
     },
     "execution_count": 285,
     "metadata": {},
     "output_type": "execute_result"
    }
   ],
   "source": [
    "# Training the model\n",
    "from sklearn.linear_model import LogisticRegression\n",
    "model_logr = LogisticRegression()\n",
    "model_logr.fit(X_train,y_train)"
   ]
  },
  {
   "cell_type": "code",
   "execution_count": 286,
   "metadata": {},
   "outputs": [],
   "source": [
    "# Predicting the model\n",
    "y_predict_log = model_logr.predict(X_test)"
   ]
  },
  {
   "cell_type": "code",
   "execution_count": 287,
   "metadata": {},
   "outputs": [
    {
     "name": "stdout",
     "output_type": "stream",
     "text": [
      "0.6027397260273972\n",
      "              precision    recall  f1-score   support\n",
      "\n",
      "           4       1.00      0.50      0.67         6\n",
      "           5       0.64      0.88      0.74         8\n",
      "           6       0.80      0.86      0.83        14\n",
      "           7       0.75      0.30      0.43        10\n",
      "           8       0.44      0.88      0.58         8\n",
      "           9       0.53      0.71      0.61        14\n",
      "          10       0.25      0.11      0.15         9\n",
      "          11       1.00      0.25      0.40         4\n",
      "\n",
      "    accuracy                           0.60        73\n",
      "   macro avg       0.68      0.56      0.55        73\n",
      "weighted avg       0.64      0.60      0.57        73\n",
      "\n"
     ]
    }
   ],
   "source": [
    "# Finding accuracy, precision, recall and confusion matrix\n",
    "print(accuracy_score(y_test,y_predict_log))\n",
    "print(classification_report(y_test,y_predict_log))"
   ]
  },
  {
   "cell_type": "code",
   "execution_count": 288,
   "metadata": {},
   "outputs": [
    {
     "data": {
      "text/plain": [
       "array([[ 3,  3,  0,  0,  0,  0,  0,  0],\n",
       "       [ 0,  7,  1,  0,  0,  0,  0,  0],\n",
       "       [ 0,  1, 12,  1,  0,  0,  0,  0],\n",
       "       [ 0,  0,  2,  3,  5,  0,  0,  0],\n",
       "       [ 0,  0,  0,  0,  7,  1,  0,  0],\n",
       "       [ 0,  0,  0,  0,  4, 10,  0,  0],\n",
       "       [ 0,  0,  0,  0,  0,  8,  1,  0],\n",
       "       [ 0,  0,  0,  0,  0,  0,  3,  1]], dtype=int64)"
      ]
     },
     "execution_count": 288,
     "metadata": {},
     "output_type": "execute_result"
    }
   ],
   "source": [
    "confusion_matrix(y_test,y_predict_log)"
   ]
  },
  {
   "cell_type": "code",
   "execution_count": null,
   "metadata": {},
   "outputs": [],
   "source": [
    "### K- Nearest Neighbour "
   ]
  },
  {
   "cell_type": "code",
   "execution_count": 317,
   "metadata": {},
   "outputs": [
    {
     "data": {
      "text/plain": [
       "KNeighborsClassifier(metric='euclidean', n_neighbors=10)"
      ]
     },
     "execution_count": 317,
     "metadata": {},
     "output_type": "execute_result"
    }
   ],
   "source": [
    "# Training the model\n",
    "from sklearn.neighbors import KNeighborsClassifier\n",
    "model_knn = KNeighborsClassifier(n_neighbors=10,metric='euclidean') # Maximum accuracy for n=10\n",
    "model_knn.fit(X_train,y_train)"
   ]
  },
  {
   "cell_type": "code",
   "execution_count": 318,
   "metadata": {},
   "outputs": [],
   "source": [
    "# Predicting the model\n",
    "y_predict_knn = model_knn.predict(X_test)\n"
   ]
  },
  {
   "cell_type": "code",
   "execution_count": 319,
   "metadata": {},
   "outputs": [
    {
     "name": "stdout",
     "output_type": "stream",
     "text": [
      "0.4383561643835616\n",
      "              precision    recall  f1-score   support\n",
      "\n",
      "           4       1.00      0.67      0.80         6\n",
      "           5       0.50      0.75      0.60         8\n",
      "           6       0.57      0.57      0.57        14\n",
      "           7       0.50      0.10      0.17        10\n",
      "           8       0.30      0.88      0.45         8\n",
      "           9       0.33      0.36      0.34        14\n",
      "          10       0.33      0.11      0.17         9\n",
      "          11       0.00      0.00      0.00         4\n",
      "\n",
      "    accuracy                           0.44        73\n",
      "   macro avg       0.44      0.43      0.39        73\n",
      "weighted avg       0.45      0.44      0.40        73\n",
      "\n"
     ]
    }
   ],
   "source": [
    "# Finding accuracy, precision, recall and confusion matrix\n",
    "print(accuracy_score(y_test,y_predict_knn))\n",
    "print(classification_report(y_test,y_predict_knn))\n"
   ]
  },
  {
   "cell_type": "code",
   "execution_count": 320,
   "metadata": {},
   "outputs": [
    {
     "data": {
      "text/plain": [
       "array([[4, 1, 1, 0, 0, 0, 0, 0],\n",
       "       [0, 6, 2, 0, 0, 0, 0, 0],\n",
       "       [0, 5, 8, 1, 0, 0, 0, 0],\n",
       "       [0, 0, 3, 1, 6, 0, 0, 0],\n",
       "       [0, 0, 0, 0, 7, 1, 0, 0],\n",
       "       [0, 0, 0, 0, 9, 5, 0, 0],\n",
       "       [0, 0, 0, 0, 1, 7, 1, 0],\n",
       "       [0, 0, 0, 0, 0, 2, 2, 0]], dtype=int64)"
      ]
     },
     "execution_count": 320,
     "metadata": {},
     "output_type": "execute_result"
    }
   ],
   "source": [
    "confusion_matrix(y_test,y_predict_knn)\n"
   ]
  },
  {
   "cell_type": "markdown",
   "metadata": {},
   "source": [
    "### support vector machine"
   ]
  },
  {
   "cell_type": "code",
   "execution_count": 289,
   "metadata": {},
   "outputs": [],
   "source": [
    "# Training the model\n",
    "from sklearn.svm import SVC\n",
    "rbf_svc = SVC(kernel='rbf', C=100, random_state=10).fit(X_train,y_train)\n"
   ]
  },
  {
   "cell_type": "code",
   "execution_count": 290,
   "metadata": {},
   "outputs": [],
   "source": [
    "# Predicting the model\n",
    "y_predict_svm = rbf_svc.predict(X_test)"
   ]
  },
  {
   "cell_type": "code",
   "execution_count": 291,
   "metadata": {},
   "outputs": [
    {
     "name": "stdout",
     "output_type": "stream",
     "text": [
      "0.9452054794520548\n",
      "              precision    recall  f1-score   support\n",
      "\n",
      "           4       1.00      1.00      1.00         6\n",
      "           5       1.00      0.88      0.93         8\n",
      "           6       0.93      1.00      0.97        14\n",
      "           7       1.00      1.00      1.00        10\n",
      "           8       1.00      1.00      1.00         8\n",
      "           9       1.00      1.00      1.00        14\n",
      "          10       0.75      1.00      0.86         9\n",
      "          11       1.00      0.25      0.40         4\n",
      "\n",
      "    accuracy                           0.95        73\n",
      "   macro avg       0.96      0.89      0.89        73\n",
      "weighted avg       0.96      0.95      0.94        73\n",
      "\n"
     ]
    }
   ],
   "source": [
    "# Finding accuracy, precision, recall and confusion matrix\n",
    "print(accuracy_score(y_test,y_predict_svm))\n",
    "print(classification_report(y_test,y_predict_svm))\n"
   ]
  },
  {
   "cell_type": "code",
   "execution_count": 292,
   "metadata": {},
   "outputs": [
    {
     "data": {
      "text/plain": [
       "array([[ 6,  0,  0,  0,  0,  0,  0,  0],\n",
       "       [ 0,  7,  1,  0,  0,  0,  0,  0],\n",
       "       [ 0,  0, 14,  0,  0,  0,  0,  0],\n",
       "       [ 0,  0,  0, 10,  0,  0,  0,  0],\n",
       "       [ 0,  0,  0,  0,  8,  0,  0,  0],\n",
       "       [ 0,  0,  0,  0,  0, 14,  0,  0],\n",
       "       [ 0,  0,  0,  0,  0,  0,  9,  0],\n",
       "       [ 0,  0,  0,  0,  0,  0,  3,  1]], dtype=int64)"
      ]
     },
     "execution_count": 292,
     "metadata": {},
     "output_type": "execute_result"
    }
   ],
   "source": [
    "confusion_matrix(y_test,y_predict_svm)"
   ]
  },
  {
   "cell_type": "markdown",
   "metadata": {},
   "source": [
    "### Decision Tree with grid search CV"
   ]
  },
  {
   "cell_type": "code",
   "execution_count": 293,
   "metadata": {},
   "outputs": [
    {
     "data": {
      "text/plain": [
       "GridSearchCV(cv=10, estimator=DecisionTreeClassifier(random_state=42),\n",
       "             param_grid=[{'criterion': ['gini'],\n",
       "                          'min_samples_split': [2, 3, 4, 5]},\n",
       "                         {'criterion': ['entropy'],\n",
       "                          'min_samples_split': [2, 3, 4, 5]}],\n",
       "             scoring='accuracy')"
      ]
     },
     "execution_count": 293,
     "metadata": {},
     "output_type": "execute_result"
    }
   ],
   "source": [
    "\n",
    "# Training the model\n",
    "from sklearn.tree import DecisionTreeClassifier\n",
    "\n",
    "classifier_dtg=DecisionTreeClassifier(random_state=42,splitter='best')\n",
    "parameters=[{'min_samples_split':[2,3,4,5],'criterion':['gini']},{'min_samples_split':[2,3,4,5],'criterion':['entropy']}]\n",
    "\n",
    "model_griddtree=GridSearchCV(estimator=classifier_dtg, param_grid=parameters, scoring='accuracy',cv=10)\n",
    "model_griddtree.fit(X_train,y_train)\n"
   ]
  },
  {
   "cell_type": "code",
   "execution_count": 294,
   "metadata": {},
   "outputs": [
    {
     "data": {
      "text/plain": [
       "{'criterion': 'gini', 'min_samples_split': 2}"
      ]
     },
     "execution_count": 294,
     "metadata": {},
     "output_type": "execute_result"
    }
   ],
   "source": [
    "model_griddtree.best_params_"
   ]
  },
  {
   "cell_type": "code",
   "execution_count": 295,
   "metadata": {},
   "outputs": [],
   "source": [
    "# Predicting the model\n",
    "y_predict_dtree = model_griddtree.predict(X_test)"
   ]
  },
  {
   "cell_type": "code",
   "execution_count": 296,
   "metadata": {},
   "outputs": [
    {
     "name": "stdout",
     "output_type": "stream",
     "text": [
      "1.0\n",
      "              precision    recall  f1-score   support\n",
      "\n",
      "           4       1.00      1.00      1.00         6\n",
      "           5       1.00      1.00      1.00         8\n",
      "           6       1.00      1.00      1.00        14\n",
      "           7       1.00      1.00      1.00        10\n",
      "           8       1.00      1.00      1.00         8\n",
      "           9       1.00      1.00      1.00        14\n",
      "          10       1.00      1.00      1.00         9\n",
      "          11       1.00      1.00      1.00         4\n",
      "\n",
      "    accuracy                           1.00        73\n",
      "   macro avg       1.00      1.00      1.00        73\n",
      "weighted avg       1.00      1.00      1.00        73\n",
      "\n"
     ]
    }
   ],
   "source": [
    "# Finding accuracy, precision, recall and confusion matrix\n",
    "print(accuracy_score(y_test,y_predict_dtree))\n",
    "print(classification_report(y_test,y_predict_dtree))\n"
   ]
  },
  {
   "cell_type": "code",
   "execution_count": 297,
   "metadata": {},
   "outputs": [
    {
     "data": {
      "text/plain": [
       "array([[ 6,  0,  0,  0,  0,  0,  0,  0],\n",
       "       [ 0,  8,  0,  0,  0,  0,  0,  0],\n",
       "       [ 0,  0, 14,  0,  0,  0,  0,  0],\n",
       "       [ 0,  0,  0, 10,  0,  0,  0,  0],\n",
       "       [ 0,  0,  0,  0,  8,  0,  0,  0],\n",
       "       [ 0,  0,  0,  0,  0, 14,  0,  0],\n",
       "       [ 0,  0,  0,  0,  0,  0,  9,  0],\n",
       "       [ 0,  0,  0,  0,  0,  0,  0,  4]], dtype=int64)"
      ]
     },
     "execution_count": 297,
     "metadata": {},
     "output_type": "execute_result"
    }
   ],
   "source": [
    "confusion_matrix(y_test,y_predict_dtree)"
   ]
  },
  {
   "cell_type": "markdown",
   "metadata": {},
   "source": [
    "### Random Forest with Grid Search CV"
   ]
  },
  {
   "cell_type": "code",
   "execution_count": 299,
   "metadata": {},
   "outputs": [
    {
     "data": {
      "text/plain": [
       "GridSearchCV(cv=10,\n",
       "             estimator=RandomForestClassifier(n_estimators=23, random_state=33),\n",
       "             param_grid=[{'criterion': ['gini', 'entropy'],\n",
       "                          'min_samples_leaf': [1, 2, 3],\n",
       "                          'min_samples_split': [2, 3, 4, 5]}],\n",
       "             scoring='accuracy')"
      ]
     },
     "execution_count": 299,
     "metadata": {},
     "output_type": "execute_result"
    }
   ],
   "source": [
    "# Training the model\n",
    "from sklearn.ensemble import RandomForestClassifier\n",
    "\n",
    "classifier_rfg=RandomForestClassifier(random_state=33,n_estimators=23)\n",
    "parameters=[{'min_samples_split':[2,3,4,5],'criterion':['gini','entropy'],'min_samples_leaf':[1,2,3]}]\n",
    "\n",
    "model_gridrf=GridSearchCV(estimator=classifier_rfg, param_grid=parameters, scoring='accuracy',cv=10)\n",
    "model_gridrf.fit(X_train,y_train)\n"
   ]
  },
  {
   "cell_type": "code",
   "execution_count": 300,
   "metadata": {},
   "outputs": [
    {
     "data": {
      "text/plain": [
       "{'criterion': 'gini', 'min_samples_leaf': 1, 'min_samples_split': 4}"
      ]
     },
     "execution_count": 300,
     "metadata": {},
     "output_type": "execute_result"
    }
   ],
   "source": [
    "model_gridrf.best_params_"
   ]
  },
  {
   "cell_type": "code",
   "execution_count": 301,
   "metadata": {},
   "outputs": [],
   "source": [
    "# Predicting the model\n",
    "y_predict_rf = model_gridrf.predict(X_test)\n"
   ]
  },
  {
   "cell_type": "code",
   "execution_count": 302,
   "metadata": {},
   "outputs": [
    {
     "name": "stdout",
     "output_type": "stream",
     "text": [
      "0.958904109589041\n",
      "              precision    recall  f1-score   support\n",
      "\n",
      "           4       1.00      1.00      1.00         6\n",
      "           5       1.00      1.00      1.00         8\n",
      "           6       1.00      1.00      1.00        14\n",
      "           7       1.00      1.00      1.00        10\n",
      "           8       1.00      1.00      1.00         8\n",
      "           9       1.00      1.00      1.00        14\n",
      "          10       0.75      1.00      0.86         9\n",
      "          11       1.00      0.25      0.40         4\n",
      "\n",
      "    accuracy                           0.96        73\n",
      "   macro avg       0.97      0.91      0.91        73\n",
      "weighted avg       0.97      0.96      0.95        73\n",
      "\n"
     ]
    }
   ],
   "source": [
    "# Finding accuracy, precision, recall and confusion matrix\n",
    "print(accuracy_score(y_test,y_predict_rf))\n",
    "print(classification_report(y_test,y_predict_rf))\n"
   ]
  },
  {
   "cell_type": "code",
   "execution_count": 303,
   "metadata": {},
   "outputs": [
    {
     "data": {
      "text/plain": [
       "array([[ 6,  0,  0,  0,  0,  0,  0,  0],\n",
       "       [ 0,  8,  0,  0,  0,  0,  0,  0],\n",
       "       [ 0,  0, 14,  0,  0,  0,  0,  0],\n",
       "       [ 0,  0,  0, 10,  0,  0,  0,  0],\n",
       "       [ 0,  0,  0,  0,  8,  0,  0,  0],\n",
       "       [ 0,  0,  0,  0,  0, 14,  0,  0],\n",
       "       [ 0,  0,  0,  0,  0,  0,  9,  0],\n",
       "       [ 0,  0,  0,  0,  0,  0,  3,  1]], dtype=int64)"
      ]
     },
     "execution_count": 303,
     "metadata": {},
     "output_type": "execute_result"
    }
   ],
   "source": [
    "confusion_matrix(y_test,y_predict_rf)"
   ]
  },
  {
   "cell_type": "markdown",
   "metadata": {},
   "source": [
    "### ANN( ARTIFICIAL NEURAL NETWORK)"
   ]
  },
  {
   "cell_type": "code",
   "execution_count": 312,
   "metadata": {},
   "outputs": [
    {
     "data": {
      "text/plain": [
       "MLPClassifier(batch_size=10, hidden_layer_sizes=(100, 100, 100),\n",
       "              learning_rate_init=0.01, max_iter=2000, random_state=10)"
      ]
     },
     "execution_count": 312,
     "metadata": {},
     "output_type": "execute_result"
    }
   ],
   "source": [
    "# Training the model\n",
    "from sklearn.neural_network import MLPClassifier\n",
    "model_mlp = MLPClassifier(hidden_layer_sizes=(100,100,100),batch_size=10,learning_rate_init=0.01,max_iter=2000,random_state=10)\n",
    "model_mlp.fit(X_train,y_train)"
   ]
  },
  {
   "cell_type": "code",
   "execution_count": 313,
   "metadata": {},
   "outputs": [],
   "source": [
    "# Predicting the model\n",
    "y_predict_mlp = model_mlp.predict(X_test)\n"
   ]
  },
  {
   "cell_type": "code",
   "execution_count": 314,
   "metadata": {},
   "outputs": [
    {
     "name": "stdout",
     "output_type": "stream",
     "text": [
      "0.9452054794520548\n",
      "              precision    recall  f1-score   support\n",
      "\n",
      "           4       1.00      0.83      0.91         6\n",
      "           5       0.89      1.00      0.94         8\n",
      "           6       1.00      1.00      1.00        14\n",
      "           7       1.00      1.00      1.00        10\n",
      "           8       1.00      1.00      1.00         8\n",
      "           9       1.00      1.00      1.00        14\n",
      "          10       0.75      1.00      0.86         9\n",
      "          11       1.00      0.25      0.40         4\n",
      "\n",
      "    accuracy                           0.95        73\n",
      "   macro avg       0.95      0.89      0.89        73\n",
      "weighted avg       0.96      0.95      0.94        73\n",
      "\n"
     ]
    }
   ],
   "source": [
    "# Finding accuracy, precision, recall and confusion matrix\n",
    "print(accuracy_score(y_test,y_predict_mlp))\n",
    "print(classification_report(y_test,y_predict_mlp))\n"
   ]
  },
  {
   "cell_type": "code",
   "execution_count": 315,
   "metadata": {},
   "outputs": [
    {
     "data": {
      "text/plain": [
       "array([[ 5,  1,  0,  0,  0,  0,  0,  0],\n",
       "       [ 0,  8,  0,  0,  0,  0,  0,  0],\n",
       "       [ 0,  0, 14,  0,  0,  0,  0,  0],\n",
       "       [ 0,  0,  0, 10,  0,  0,  0,  0],\n",
       "       [ 0,  0,  0,  0,  8,  0,  0,  0],\n",
       "       [ 0,  0,  0,  0,  0, 14,  0,  0],\n",
       "       [ 0,  0,  0,  0,  0,  0,  9,  0],\n",
       "       [ 0,  0,  0,  0,  0,  0,  3,  1]], dtype=int64)"
      ]
     },
     "execution_count": 315,
     "metadata": {},
     "output_type": "execute_result"
    }
   ],
   "source": [
    "confusion_matrix(y_test,y_predict_mlp)"
   ]
  },
  {
   "cell_type": "code",
   "execution_count": 321,
   "metadata": {},
   "outputs": [
    {
     "data": {
      "text/plain": [
       "['data.ml']"
      ]
     },
     "execution_count": 321,
     "metadata": {},
     "output_type": "execute_result"
    }
   ],
   "source": [
    "# Exporting the trained model\n",
    "import joblib\n",
    "joblib.dump(model_gridrf,'data.ml')"
   ]
  }
 ],
 "metadata": {
  "kernelspec": {
   "display_name": "Python 3",
   "language": "python",
   "name": "python3"
  },
  "language_info": {
   "codemirror_mode": {
    "name": "ipython",
    "version": 3
   },
   "file_extension": ".py",
   "mimetype": "text/x-python",
   "name": "python",
   "nbconvert_exporter": "python",
   "pygments_lexer": "ipython3",
   "version": "3.8.5"
  }
 },
 "nbformat": 4,
 "nbformat_minor": 4
}
